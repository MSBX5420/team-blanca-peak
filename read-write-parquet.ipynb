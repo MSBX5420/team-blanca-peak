{
 "cells": [
  {
   "cell_type": "code",
   "execution_count": 24,
   "metadata": {},
   "outputs": [],
   "source": [
    "from pyspark.sql import SparkSession"
   ]
  },
  {
   "cell_type": "code",
   "execution_count": 25,
   "metadata": {},
   "outputs": [],
   "source": [
    "spark = SparkSession.builder.getOrCreate()\n",
    "sc = spark.sparkContext"
   ]
  },
  {
   "cell_type": "code",
   "execution_count": 26,
   "metadata": {},
   "outputs": [],
   "source": [
    "from pyspark.sql import SQLContext\n",
    "sqlContext = SQLContext(sc)"
   ]
  },
  {
   "cell_type": "code",
   "execution_count": 27,
   "metadata": {},
   "outputs": [
    {
     "data": {
      "text/plain": [
       "s3://msbx5420-2020/team-blanca-peak/yellow_tripdata_2019-01.csv MapPartitionsRDD[13] at textFile at NativeMethodAccessorImpl.java:0"
      ]
     },
     "execution_count": 27,
     "metadata": {},
     "output_type": "execute_result"
    }
   ],
   "source": [
    "rdd = sc.textFile(\"s3://msbx5420-2020/team-blanca-peak/yellow_tripdata_2019-01.csv\")\n",
    "rdd"
   ]
  },
  {
   "cell_type": "code",
   "execution_count": 28,
   "metadata": {
    "scrolled": true
   },
   "outputs": [
    {
     "data": {
      "text/plain": [
       "['VendorID,tpep_pickup_datetime,tpep_dropoff_datetime,passenger_count,trip_distance,RatecodeID,store_and_fwd_flag,PULocationID,DOLocationID,payment_type,fare_amount,extra,mta_tax,tip_amount,tolls_amount,improvement_surcharge,total_amount,congestion_surcharge',\n",
       " '1,1/1/2019 0:46,1/1/2019 0:53,1,1.5,1,N,151,239,1,7,0.5,0.5,1.65,0,0.3,9.95,',\n",
       " '1,1/1/2019 0:59,1/1/2019 1:18,1,2.6,1,N,239,246,1,14,0.5,0.5,1,0,0.3,16.3,',\n",
       " '2,12/21/2018 13:48,12/21/2018 13:52,3,0,1,N,236,236,1,4.5,0.5,0.5,0,0,0.3,5.8,',\n",
       " '2,11/28/2018 15:52,11/28/2018 15:55,5,0,1,N,193,193,2,3.5,0.5,0.5,0,0,0.3,7.55,',\n",
       " '2,11/28/2018 15:56,11/28/2018 15:58,5,0,2,N,193,193,2,52,0,0.5,0,0,0.3,55.55,',\n",
       " '2,11/28/2018 16:25,11/28/2018 16:28,5,0,1,N,193,193,2,3.5,0.5,0.5,0,5.76,0.3,13.31,',\n",
       " '2,11/28/2018 16:29,11/28/2018 16:33,5,0,2,N,193,193,2,52,0,0.5,0,0,0.3,55.55,',\n",
       " '1,1/1/2019 0:21,1/1/2019 0:28,1,1.3,1,N,163,229,1,6.5,0.5,0.5,1.25,0,0.3,9.05,',\n",
       " '1,1/1/2019 0:32,1/1/2019 0:45,1,3.7,1,N,229,7,1,13.5,0.5,0.5,3.7,0,0.3,18.5,']"
      ]
     },
     "execution_count": 28,
     "metadata": {},
     "output_type": "execute_result"
    }
   ],
   "source": [
    "rdd.take(10)"
   ]
  },
  {
   "cell_type": "code",
   "execution_count": 29,
   "metadata": {},
   "outputs": [
    {
     "name": "stderr",
     "output_type": "stream",
     "text": [
      "/usr/lib/spark/python/pyspark/sql/session.py:366: UserWarning: Using RDD of dict to inferSchema is deprecated. Use pyspark.sql.Row instead\n",
      "  warnings.warn(\"Using RDD of dict to inferSchema is deprecated. \"\n"
     ]
    },
    {
     "name": "stdout",
     "output_type": "stream",
     "text": [
      "+------------+------------+----------+--------+--------------------+-----+-----------+---------------------+-------+---------------+------------+------------------+----------+------------+------------+---------------------+--------------------+-------------+\n",
      "|DOLocationID|PULocationID|RatecodeID|VendorID|congestion_surcharge|extra|fare_amount|improvement_surcharge|mta_tax|passenger_count|payment_type|store_and_fwd_flag|tip_amount|tolls_amount|total_amount|tpep_dropoff_datetime|tpep_pickup_datetime|trip_distance|\n",
      "+------------+------------+----------+--------+--------------------+-----+-----------+---------------------+-------+---------------+------------+------------------+----------+------------+------------+---------------------+--------------------+-------------+\n",
      "|DOLocationID|PULocationID|RatecodeID|VendorID|congestion_surcharge|extra|fare_amount| improvement_surch...|mta_tax|passenger_count|payment_type|store_and_fwd_flag|tip_amount|tolls_amount|total_amount| tpep_dropoff_date...|tpep_pickup_datetime|trip_distance|\n",
      "|         239|         151|         1|       1|                    |  0.5|          7|                  0.3|    0.5|              1|           1|                 N|      1.65|           0|        9.95|        1/1/2019 0:53|       1/1/2019 0:46|          1.5|\n",
      "|         246|         239|         1|       1|                    |  0.5|         14|                  0.3|    0.5|              1|           1|                 N|         1|           0|        16.3|        1/1/2019 1:18|       1/1/2019 0:59|          2.6|\n",
      "|         236|         236|         1|       2|                    |  0.5|        4.5|                  0.3|    0.5|              3|           1|                 N|         0|           0|         5.8|     12/21/2018 13:52|    12/21/2018 13:48|            0|\n",
      "|         193|         193|         1|       2|                    |  0.5|        3.5|                  0.3|    0.5|              5|           2|                 N|         0|           0|        7.55|     11/28/2018 15:55|    11/28/2018 15:52|            0|\n",
      "+------------+------------+----------+--------+--------------------+-----+-----------+---------------------+-------+---------------+------------+------------------+----------+------------+------------+---------------------+--------------------+-------------+\n",
      "only showing top 5 rows\n",
      "\n"
     ]
    }
   ],
   "source": [
    "df_new = rdd.\\\n",
    "    map(lambda x: x.split(\",\")).\\\n",
    "    filter(lambda x: len(x) == 18). \\\n",
    "    map(lambda x: {\n",
    "        'VendorID':x[0],\n",
    "        'tpep_pickup_datetime':x[1],\n",
    "        'tpep_dropoff_datetime':x[2],\n",
    "        'passenger_count':x[3],\n",
    "        'trip_distance':x[4],\n",
    "        'RatecodeID':x[5],\n",
    "        'store_and_fwd_flag':x[6],\n",
    "        'PULocationID':x[7],\n",
    "        'DOLocationID':x[8],\n",
    "        'payment_type':x[9],\n",
    "        'fare_amount':x[10],\n",
    "        'extra':x[11],\n",
    "        'mta_tax':x[12],\n",
    "        'tip_amount':x[13],\n",
    "        'tolls_amount':x[14],\n",
    "        'improvement_surcharge':x[15],\n",
    "        'total_amount':x[16],\n",
    "        'congestion_surcharge':x[17]})\\\n",
    "    .toDF()\n",
    "df_new.show(5)"
   ]
  },
  {
   "cell_type": "code",
   "execution_count": 6,
   "metadata": {},
   "outputs": [
    {
     "name": "stdout",
     "output_type": "stream",
     "text": [
      "+--------+--------------------+---------------------+---------------+-------------+----------+------------------+------------+------------+------------+-----------+-----+-------+----------+------------+---------------------+------------+--------------------+\n",
      "|VendorID|tpep_pickup_datetime|tpep_dropoff_datetime|passenger_count|trip_distance|RatecodeID|store_and_fwd_flag|PULocationID|DOLocationID|payment_type|fare_amount|extra|mta_tax|tip_amount|tolls_amount|improvement_surcharge|total_amount|congestion_surcharge|\n",
      "+--------+--------------------+---------------------+---------------+-------------+----------+------------------+------------+------------+------------+-----------+-----+-------+----------+------------+---------------------+------------+--------------------+\n",
      "|       1|       1/1/2019 0:46|        1/1/2019 0:53|              1|          1.5|         1|                 N|         151|         239|           1|          7|  0.5|    0.5|      1.65|           0|                  0.3|        9.95|                null|\n",
      "|       1|       1/1/2019 0:59|        1/1/2019 1:18|              1|          2.6|         1|                 N|         239|         246|           1|         14|  0.5|    0.5|         1|           0|                  0.3|        16.3|                null|\n",
      "|       2|    12/21/2018 13:48|     12/21/2018 13:52|              3|            0|         1|                 N|         236|         236|           1|        4.5|  0.5|    0.5|         0|           0|                  0.3|         5.8|                null|\n",
      "|       2|    11/28/2018 15:52|     11/28/2018 15:55|              5|            0|         1|                 N|         193|         193|           2|        3.5|  0.5|    0.5|         0|           0|                  0.3|        7.55|                null|\n",
      "|       2|    11/28/2018 15:56|     11/28/2018 15:58|              5|            0|         2|                 N|         193|         193|           2|         52|    0|    0.5|         0|           0|                  0.3|       55.55|                null|\n",
      "+--------+--------------------+---------------------+---------------+-------------+----------+------------------+------------+------------+------------+-----------+-----+-------+----------+------------+---------------------+------------+--------------------+\n",
      "only showing top 5 rows\n",
      "\n"
     ]
    }
   ],
   "source": [
    "#df = (sqlContext.read\n",
    "#         .format(\"com.databricks.spark.csv\")\n",
    "#         .option(\"header\", \"true\")\n",
    "#         .load(\"s3://msbx5420-2020/team-blanca-peak/yellow_tripdata_2019-01.csv\"))\n",
    "\n",
    "#spark.read.format(\"csv\").option(\"header\", \"true\").load(\"s3://msbx5420-2020/team-blanca-peak/yellow_tripdata_2019-01.csv\") \n",
    "df_read = spark.read.option(\"header\", \"true\").csv(\"s3://msbx5420-2020/team-blanca-peak/yellow_tripdata_2019-01.csv\")\n",
    "df_read.show(5)"
   ]
  },
  {
   "cell_type": "code",
   "execution_count": 7,
   "metadata": {},
   "outputs": [
    {
     "name": "stdout",
     "output_type": "stream",
     "text": [
      "+--------+--------------------+---------------------+---------------+-------------+----------+------------------+------------+------------+------------+-----------+-----+-------+----------+------------+---------------------+------------+--------------------+\n",
      "|VendorID|tpep_pickup_datetime|tpep_dropoff_datetime|passenger_count|trip_distance|RatecodeID|store_and_fwd_flag|PULocationID|DOLocationID|payment_type|fare_amount|extra|mta_tax|tip_amount|tolls_amount|improvement_surcharge|total_amount|congestion_surcharge|\n",
      "+--------+--------------------+---------------------+---------------+-------------+----------+------------------+------------+------------+------------+-----------+-----+-------+----------+------------+---------------------+------------+--------------------+\n",
      "|       1|       1/1/2019 0:46|        1/1/2019 0:53|              1|          1.5|         1|                 N|         151|         239|           1|          7|  0.5|    0.5|      1.65|           0|                  0.3|        9.95|                null|\n",
      "|       1|       1/1/2019 0:59|        1/1/2019 1:18|              1|          2.6|         1|                 N|         239|         246|           1|         14|  0.5|    0.5|         1|           0|                  0.3|        16.3|                null|\n",
      "|       2|    12/21/2018 13:48|     12/21/2018 13:52|              3|            0|         1|                 N|         236|         236|           1|        4.5|  0.5|    0.5|         0|           0|                  0.3|         5.8|                null|\n",
      "|       2|    11/28/2018 15:52|     11/28/2018 15:55|              5|            0|         1|                 N|         193|         193|           2|        3.5|  0.5|    0.5|         0|           0|                  0.3|        7.55|                null|\n",
      "|       2|    11/28/2018 15:56|     11/28/2018 15:58|              5|            0|         2|                 N|         193|         193|           2|         52|    0|    0.5|         0|           0|                  0.3|       55.55|                null|\n",
      "+--------+--------------------+---------------------+---------------+-------------+----------+------------------+------------+------------+------------+-----------+-----+-------+----------+------------+---------------------+------------+--------------------+\n",
      "only showing top 5 rows\n",
      "\n"
     ]
    }
   ],
   "source": [
    "#Register the people df as a table\n",
    "df_read.registerTempTable(\"taxi\")\n",
    "#Perform SQL Query\n",
    "taxi = spark.sql(\"SELECT * FROM taxi\")\n",
    "taxi.show(5)"
   ]
  },
  {
   "cell_type": "code",
   "execution_count": 8,
   "metadata": {},
   "outputs": [
    {
     "name": "stdout",
     "output_type": "stream",
     "text": [
      "+--------+--------------------+--------------------+---------------+-------------+----------+------------------+------------+------------+------------+-----------+-----+-------+----------+------------+--------------------+------------+--------------------+\n",
      "|      _1|                  _2|                  _3|             _4|           _5|        _6|                _7|          _8|          _9|         _10|        _11|  _12|    _13|       _14|         _15|                 _16|         _17|                 _18|\n",
      "+--------+--------------------+--------------------+---------------+-------------+----------+------------------+------------+------------+------------+-----------+-----+-------+----------+------------+--------------------+------------+--------------------+\n",
      "|VendorID|tpep_pickup_datetime|tpep_dropoff_date...|passenger_count|trip_distance|RatecodeID|store_and_fwd_flag|PULocationID|DOLocationID|payment_type|fare_amount|extra|mta_tax|tip_amount|tolls_amount|improvement_surch...|total_amount|congestion_surcharge|\n",
      "|       1|       1/1/2019 0:46|       1/1/2019 0:53|              1|          1.5|         1|                 N|         151|         239|           1|          7|  0.5|    0.5|      1.65|           0|                 0.3|        9.95|                    |\n",
      "|       1|       1/1/2019 0:59|       1/1/2019 1:18|              1|          2.6|         1|                 N|         239|         246|           1|         14|  0.5|    0.5|         1|           0|                 0.3|        16.3|                    |\n",
      "|       2|    12/21/2018 13:48|    12/21/2018 13:52|              3|            0|         1|                 N|         236|         236|           1|        4.5|  0.5|    0.5|         0|           0|                 0.3|         5.8|                    |\n",
      "|       2|    11/28/2018 15:52|    11/28/2018 15:55|              5|            0|         1|                 N|         193|         193|           2|        3.5|  0.5|    0.5|         0|           0|                 0.3|        7.55|                    |\n",
      "+--------+--------------------+--------------------+---------------+-------------+----------+------------------+------------+------------+------------+-----------+-----+-------+----------+------------+--------------------+------------+--------------------+\n",
      "only showing top 5 rows\n",
      "\n"
     ]
    }
   ],
   "source": [
    "df_write = rdd.\\\n",
    "    map(lambda x: x.split(\",\")).toDF()\n",
    "df_write.show(5)"
   ]
  },
  {
   "cell_type": "code",
   "execution_count": null,
   "metadata": {},
   "outputs": [],
   "source": [
    "df_write.write.parquet(\"s3://msbx5420-2020/team-blanca-peak/parquet\")"
   ]
  },
  {
   "cell_type": "code",
   "execution_count": 18,
   "metadata": {},
   "outputs": [
    {
     "name": "stdout",
     "output_type": "stream",
     "text": [
      "+--------+--------------------+--------------------+---------------+-------------+----------+------------------+------------+------------+------------+-----------+-----+-------+----------+------------+--------------------+------------+--------------------+\n",
      "|      _1|                  _2|                  _3|             _4|           _5|        _6|                _7|          _8|          _9|         _10|        _11|  _12|    _13|       _14|         _15|                 _16|         _17|                 _18|\n",
      "+--------+--------------------+--------------------+---------------+-------------+----------+------------------+------------+------------+------------+-----------+-----+-------+----------+------------+--------------------+------------+--------------------+\n",
      "|VendorID|tpep_pickup_datetime|tpep_dropoff_date...|passenger_count|trip_distance|RatecodeID|store_and_fwd_flag|PULocationID|DOLocationID|payment_type|fare_amount|extra|mta_tax|tip_amount|tolls_amount|improvement_surch...|total_amount|congestion_surcharge|\n",
      "|       1|       1/1/2019 0:46|       1/1/2019 0:53|              1|          1.5|         1|                 N|         151|         239|           1|          7|  0.5|    0.5|      1.65|           0|                 0.3|        9.95|                    |\n",
      "|       1|       1/1/2019 0:59|       1/1/2019 1:18|              1|          2.6|         1|                 N|         239|         246|           1|         14|  0.5|    0.5|         1|           0|                 0.3|        16.3|                    |\n",
      "|       2|    12/21/2018 13:48|    12/21/2018 13:52|              3|            0|         1|                 N|         236|         236|           1|        4.5|  0.5|    0.5|         0|           0|                 0.3|         5.8|                    |\n",
      "|       2|    11/28/2018 15:52|    11/28/2018 15:55|              5|            0|         1|                 N|         193|         193|           2|        3.5|  0.5|    0.5|         0|           0|                 0.3|        7.55|                    |\n",
      "+--------+--------------------+--------------------+---------------+-------------+----------+------------------+------------+------------+------------+-----------+-----+-------+----------+------------+--------------------+------------+--------------------+\n",
      "only showing top 5 rows\n",
      "\n"
     ]
    }
   ],
   "source": [
    "df_read = sqlContext.read.parquet(\"s3://msbx5420-2020/team-blanca-peak/parquet\")\n",
    "df_read.show(5)"
   ]
  },
  {
   "cell_type": "code",
   "execution_count": 32,
   "metadata": {},
   "outputs": [
    {
     "name": "stdout",
     "output_type": "stream",
     "text": [
      "1048576\n",
      "1048576\n"
     ]
    }
   ],
   "source": [
    "print(df_new.count())\n",
    "print(df_read.count())"
   ]
  },
  {
   "cell_type": "code",
   "execution_count": null,
   "metadata": {},
   "outputs": [],
   "source": [
    "sc.stop()"
   ]
  }
 ],
 "metadata": {
  "kernelspec": {
   "display_name": "Python 3",
   "language": "python",
   "name": "python3"
  },
  "language_info": {
   "codemirror_mode": {
    "name": "ipython",
    "version": 3
   },
   "file_extension": ".py",
   "mimetype": "text/x-python",
   "name": "python",
   "nbconvert_exporter": "python",
   "pygments_lexer": "ipython3",
   "version": "3.6.8"
  }
 },
 "nbformat": 4,
 "nbformat_minor": 4
}
